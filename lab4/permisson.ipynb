{
 "cells": [
  {
   "cell_type": "code",
   "execution_count": 1,
   "metadata": {},
   "outputs": [],
   "source": [
    "import boto3\n",
    "import json\n",
    "\n",
    "# Constant setting\n",
    "ROOT_DIR = \"./\"\n",
    "ROOT_S3_DIR = \"22962256-cloudstorage\"\n",
    "BUCKET_CONFIG = {\"LocationConstraint\": \"ap-southeast-2\"}\n",
    "\n",
    "s3 = boto3.client('s3')"
   ]
  },
  {
   "cell_type": "code",
   "execution_count": 3,
   "metadata": {},
   "outputs": [],
   "source": [
    "policy = {\n",
    "    \"Version\": \"2012-10-17\",\n",
    "    \"Statement\": [\n",
    "        {\n",
    "            \"Sid\": \"AllowAllS3ActionsInUserFolderForUserOnly\",\n",
    "            \"Effect\": \"DENY\",\n",
    "            \"Principal\": \"*\",\n",
    "            \"Action\": \"s3:*\",\n",
    "            \"Resource\": \"arn:aws:s3:::22962256-cloudstorage/rootdir/*\",\n",
    "            \"Condition\": {\n",
    "                \"StringNotLike\": {\"aws:username\": \"22962256@student.uwa.edu.au\"}\n",
    "            },\n",
    "        },\n",
    "        {\n",
    "            \"Sid\": \"AllowAllS3ActionsInUserFolderForUserOnly\",\n",
    "            \"Effect\": \"DENY\",\n",
    "            \"Principal\": \"*\",\n",
    "            \"Action\": \"s3:*\",\n",
    "            \"Resource\": \"arn:aws:s3:::22962256-cloudstorage/subdir/*\",\n",
    "            \"Condition\": {\n",
    "                \"StringNotLike\": {\"aws:username\": \"12345678@student.uwa.edu.au\"}\n",
    "            },\n",
    "        },\n",
    "    ],\n",
    "}"
   ]
  },
  {
   "cell_type": "code",
   "execution_count": 4,
   "metadata": {},
   "outputs": [
    {
     "data": {
      "text/plain": [
       "{'ResponseMetadata': {'RequestId': '0CTH0R516FFG5HDB',\n",
       "  'HostId': 'EvGmJHAVTfYGqsgI6KcURuaXQNQcpSXxpaXrP4UQbiaIjjku106UO9P71899ArmNx8l9OAGjmVUX/kMSlAw2GA==',\n",
       "  'HTTPStatusCode': 204,\n",
       "  'HTTPHeaders': {'x-amz-id-2': 'EvGmJHAVTfYGqsgI6KcURuaXQNQcpSXxpaXrP4UQbiaIjjku106UO9P71899ArmNx8l9OAGjmVUX/kMSlAw2GA==',\n",
       "   'x-amz-request-id': '0CTH0R516FFG5HDB',\n",
       "   'date': 'Sat, 26 Aug 2023 05:35:52 GMT',\n",
       "   'server': 'AmazonS3'},\n",
       "  'RetryAttempts': 0}}"
      ]
     },
     "execution_count": 4,
     "metadata": {},
     "output_type": "execute_result"
    }
   ],
   "source": [
    "# Apply the policy to the bucket\n",
    "s3.put_bucket_policy(Bucket=ROOT_S3_DIR, Policy=json.dumps(policy))"
   ]
  },
  {
   "cell_type": "code",
   "execution_count": null,
   "metadata": {},
   "outputs": [
    {
     "data": {
      "text/plain": [
       "'{\"Version\": \"2012-10-17\", \"Statement\": {\"Sid\": \"AllowAllS3ActionsInUserFolderForUserOnly\", \"Effect\": \"DENY\", \"Principal\": \"*\", \"Action\": \"s3:*\", \"Resource\": \"arn:aws:s3:::<your_s3_bucket>/folder1/folder2/*\", \"Condition\": {\"StringNotLike\": {\"aws:username\": \"<studentnumber>@student.uwa.edu.au\"}}}}'"
      ]
     },
     "execution_count": 6,
     "metadata": {},
     "output_type": "execute_result"
    }
   ],
   "source": []
  }
 ],
 "metadata": {
  "kernelspec": {
   "display_name": "Python 3",
   "language": "python",
   "name": "python3"
  },
  "language_info": {
   "codemirror_mode": {
    "name": "ipython",
    "version": 3
   },
   "file_extension": ".py",
   "mimetype": "text/x-python",
   "name": "python",
   "nbconvert_exporter": "python",
   "pygments_lexer": "ipython3",
   "version": "3.10.12"
  },
  "orig_nbformat": 4
 },
 "nbformat": 4,
 "nbformat_minor": 2
}
