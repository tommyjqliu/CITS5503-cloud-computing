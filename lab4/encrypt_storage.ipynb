{
 "cells": [
  {
   "cell_type": "code",
   "execution_count": null,
   "metadata": {},
   "outputs": [],
   "source": [
    "import boto3\n",
    "import os, struct\n",
    "from Crypto.Cipher import AES\n",
    "from Crypto import Random\n",
    "import boto3\n",
    "import hashlib\n",
    "\n",
    "kms = boto3.client('kms')"
   ]
  },
  {
   "cell_type": "code",
   "execution_count": null,
   "metadata": {},
   "outputs": [],
   "source": [
    "KMS_KEY_ID = \"alias/22962256\"\n",
    "LOCAL_PASSWORD = \"22962256-KEY\"\n",
    "BLOCK_SIZE = 16\n",
    "CHUNK_SIZE = 64 * 1024"
   ]
  },
  {
   "cell_type": "code",
   "execution_count": null,
   "metadata": {},
   "outputs": [],
   "source": [
    "def aws_encrypt_file(plainchunk):\n",
    "    response = kms.encrypt(KeyId=KMS_KEY_ID, Plaintext=plainchunk)\n",
    "    return response[\"CiphertextBlob\"]\n",
    "\n",
    "\n",
    "def aws_decrypt_file(cipherchunk):\n",
    "    response = kms.decrypt(CiphertextBlob=cipherchunk)\n",
    "    return response[\"Plaintext\"]\n",
    "\n",
    "\n",
    "def local_encrypt_file(plainchunk, encryptor):\n",
    "    return encryptor.encrypt(plainchunk)\n",
    "\n",
    "\n",
    "def local_decrypt_file(cipherchunk, decryptor):\n",
    "    return decryptor.decrypt(cipherchunk)"
   ]
  },
  {
   "cell_type": "code",
   "execution_count": null,
   "metadata": {},
   "outputs": [],
   "source": [
    "def encrypt_file(in_filename, out_filename, mode=\"local\"):\n",
    "    with open(in_filename, \"rb\") as infile:\n",
    "        with open(out_filename, \"wb\") as outfile:\n",
    "            filesize = os.path.getsize(in_filename)\n",
    "            iv = Random.new().read(AES.block_size)\n",
    "            outfile.write(struct.pack(\"<Q\", filesize))\n",
    "            outfile.write(iv)\n",
    "\n",
    "            if mode == \"local\":\n",
    "                local_key = hashlib.sha256(LOCAL_PASSWORD.encode(\"utf-8\")).digest()\n",
    "                encryptor = AES.new(local_key, AES.MODE_CBC, iv)\n",
    "\n",
    "            while True:\n",
    "                chunk = infile.read(CHUNK_SIZE)\n",
    "                if len(chunk) == 0:\n",
    "                    break\n",
    "                elif len(chunk) % 16 != 0:\n",
    "                    chunk += \" \".encode(\"utf-8\") * (16 - len(chunk) % 16)\n",
    "                cipherchunk = (\n",
    "                    local_encrypt_file(chunk, encryptor)\n",
    "                    if mode == \"local\"\n",
    "                    else aws_encrypt_file(chunk)\n",
    "                )\n",
    "                outfile.write(cipherchunk)\n",
    "\n",
    "\n",
    "def decrypt_file(in_filename, out_filename, mode=\"local\"):\n",
    "    with open(in_filename, \"rb\") as infile:\n",
    "        origsize = struct.unpack(\"<Q\", infile.read(struct.calcsize(\"Q\")))[0]\n",
    "        iv = infile.read(16)\n",
    "        \n",
    "        if mode == \"local\":\n",
    "            local_key = hashlib.sha256(LOCAL_PASSWORD.encode(\"utf-8\")).digest()\n",
    "            decryptor = AES.new(local_key, AES.MODE_CBC, iv)\n",
    "\n",
    "        with open(out_filename, \"wb\") as outfile:\n",
    "            while True:\n",
    "                chunk = infile.read(CHUNK_SIZE)\n",
    "                if len(chunk) == 0:\n",
    "                    break\n",
    "                plainchunk = (\n",
    "                    local_decrypt_file(chunk, decryptor)\n",
    "                    if mode == \"local\"\n",
    "                    else aws_decrypt_file(chunk)\n",
    "                )\n",
    "                outfile.write(plainchunk)\n",
    "\n",
    "            outfile.truncate(origsize)"
   ]
  },
  {
   "cell_type": "code",
   "execution_count": null,
   "metadata": {},
   "outputs": [],
   "source": [
    "response = kms.generate_data_key(KeyId=\"alias/22962256\", KeySpec=\"AES_256\")\n",
    "response"
   ]
  }
 ],
 "metadata": {
  "kernelspec": {
   "display_name": "Python 3",
   "language": "python",
   "name": "python3"
  },
  "language_info": {
   "codemirror_mode": {
    "name": "ipython",
    "version": 3
   },
   "file_extension": ".py",
   "mimetype": "text/x-python",
   "name": "python",
   "nbconvert_exporter": "python",
   "pygments_lexer": "ipython3",
   "version": "3.10.12"
  },
  "orig_nbformat": 4
 },
 "nbformat": 4,
 "nbformat_minor": 2
}
