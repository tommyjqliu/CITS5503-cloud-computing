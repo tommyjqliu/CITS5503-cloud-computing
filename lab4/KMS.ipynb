{
 "cells": [
  {
   "cell_type": "code",
   "execution_count": 22,
   "metadata": {},
   "outputs": [],
   "source": [
    "import boto3\n",
    "import json\n",
    "\n",
    "kms = boto3.client('kms')"
   ]
  },
  {
   "cell_type": "code",
   "execution_count": 7,
   "metadata": {},
   "outputs": [],
   "source": [
    "CMK_ID = 'arn:aws:s3:::22962256-cloudstorage'\n",
    "KEY_SPEC = 'AES_256'"
   ]
  },
  {
   "cell_type": "code",
   "execution_count": 13,
   "metadata": {},
   "outputs": [
    {
     "data": {
      "text/plain": [
       "{'KeyMetadata': {'AWSAccountId': '489389878001',\n",
       "  'KeyId': '03f36234-9593-461d-811c-6c4c65b1807a',\n",
       "  'Arn': 'arn:aws:kms:ap-southeast-2:489389878001:key/03f36234-9593-461d-811c-6c4c65b1807a',\n",
       "  'CreationDate': datetime.datetime(2023, 8, 26, 16, 43, 48, 83000, tzinfo=tzlocal()),\n",
       "  'Enabled': True,\n",
       "  'Description': '22962256',\n",
       "  'KeyUsage': 'ENCRYPT_DECRYPT',\n",
       "  'KeyState': 'Enabled',\n",
       "  'Origin': 'AWS_KMS',\n",
       "  'KeyManager': 'CUSTOMER',\n",
       "  'CustomerMasterKeySpec': 'SYMMETRIC_DEFAULT',\n",
       "  'KeySpec': 'SYMMETRIC_DEFAULT',\n",
       "  'EncryptionAlgorithms': ['SYMMETRIC_DEFAULT'],\n",
       "  'MultiRegion': False},\n",
       " 'ResponseMetadata': {'RequestId': 'e38f52d0-767f-4b8b-ad98-66ab78380ee1',\n",
       "  'HTTPStatusCode': 200,\n",
       "  'HTTPHeaders': {'x-amzn-requestid': 'e38f52d0-767f-4b8b-ad98-66ab78380ee1',\n",
       "   'cache-control': 'no-cache, no-store, must-revalidate, private',\n",
       "   'expires': '0',\n",
       "   'pragma': 'no-cache',\n",
       "   'date': 'Sat, 26 Aug 2023 08:43:48 GMT',\n",
       "   'content-type': 'application/x-amz-json-1.1',\n",
       "   'content-length': '487',\n",
       "   'connection': 'keep-alive'},\n",
       "  'RetryAttempts': 0}}"
      ]
     },
     "execution_count": 13,
     "metadata": {},
     "output_type": "execute_result"
    }
   ],
   "source": [
    "kms_response = kms.create_key(Description='22962256')\n",
    "kms_response"
   ]
  },
  {
   "cell_type": "code",
   "execution_count": 16,
   "metadata": {},
   "outputs": [
    {
     "data": {
      "text/plain": [
       "{'ResponseMetadata': {'RequestId': '94289b21-cc05-4fff-9b5b-23748a3aa8d6',\n",
       "  'HTTPStatusCode': 200,\n",
       "  'HTTPHeaders': {'x-amzn-requestid': '94289b21-cc05-4fff-9b5b-23748a3aa8d6',\n",
       "   'cache-control': 'no-cache, no-store, must-revalidate, private',\n",
       "   'expires': '0',\n",
       "   'pragma': 'no-cache',\n",
       "   'date': 'Sat, 26 Aug 2023 08:44:07 GMT',\n",
       "   'content-type': 'application/x-amz-json-1.1',\n",
       "   'content-length': '0',\n",
       "   'connection': 'keep-alive'},\n",
       "  'RetryAttempts': 0}}"
      ]
     },
     "execution_count": 16,
     "metadata": {},
     "output_type": "execute_result"
    }
   ],
   "source": [
    "kms.create_alias(\n",
    "    AliasName='alias/22962256',\n",
    "    TargetKeyId=kms_response['KeyMetadata']['KeyId']\n",
    ")"
   ]
  },
  {
   "cell_type": "code",
   "execution_count": 23,
   "metadata": {},
   "outputs": [
    {
     "data": {
      "text/plain": [
       "{'ResponseMetadata': {'RequestId': '28f23462-912e-45ee-9796-628135ccd9b2',\n",
       "  'HTTPStatusCode': 200,\n",
       "  'HTTPHeaders': {'x-amzn-requestid': '28f23462-912e-45ee-9796-628135ccd9b2',\n",
       "   'cache-control': 'no-cache, no-store, must-revalidate, private',\n",
       "   'expires': '0',\n",
       "   'pragma': 'no-cache',\n",
       "   'date': 'Sat, 26 Aug 2023 08:54:31 GMT',\n",
       "   'content-type': 'application/x-amz-json-1.1',\n",
       "   'content-length': '0',\n",
       "   'connection': 'keep-alive'},\n",
       "  'RetryAttempts': 0}}"
      ]
     },
     "execution_count": 23,
     "metadata": {},
     "output_type": "execute_result"
    }
   ],
   "source": [
    "policy = {\n",
    "    \"Version\": \"2012-10-17\",\n",
    "    \"Id\": \"key-consolepolicy-3\",\n",
    "    \"Statement\": [\n",
    "        {\n",
    "            \"Sid\": \"Enable IAM User Permissions\",\n",
    "            \"Effect\": \"Allow\",\n",
    "            \"Principal\": {\"AWS\": \"arn:aws:iam::489389878001:root\"},\n",
    "            \"Action\": \"kms:*\",\n",
    "            \"Resource\": \"*\",\n",
    "        },\n",
    "        {\n",
    "            \"Sid\": \"Allow access for Key Administrators\",\n",
    "            \"Effect\": \"Allow\",\n",
    "            \"Principal\": {\n",
    "                \"AWS\": \"arn:aws:iam::489389878001:user/22962256@student.uwa.edu.au\"\n",
    "            },\n",
    "            \"Action\": [\n",
    "                \"kms:Create*\",\n",
    "                \"kms:Describe*\",\n",
    "                \"kms:Enable*\",\n",
    "                \"kms:List*\",\n",
    "                \"kms:Put*\",\n",
    "                \"kms:Update*\",\n",
    "                \"kms:Revoke*\",\n",
    "                \"kms:Disable*\",\n",
    "                \"kms:Get*\",\n",
    "                \"kms:Delete*\",\n",
    "                \"kms:TagResource\",\n",
    "                \"kms:UntagResource\",\n",
    "                \"kms:ScheduleKeyDeletion\",\n",
    "                \"kms:CancelKeyDeletion\",\n",
    "            ],\n",
    "            \"Resource\": \"*\",\n",
    "        },\n",
    "        {\n",
    "            \"Sid\": \"Allow use of the key\",\n",
    "            \"Effect\": \"Allow\",\n",
    "            \"Principal\": {\n",
    "                \"AWS\": \"arn:aws:iam::489389878001:user/22962256@student.uwa.edu.au\"\n",
    "            },\n",
    "            \"Action\": [\n",
    "                \"kms:Encrypt\",\n",
    "                \"kms:Decrypt\",\n",
    "                \"kms:ReEncrypt*\",\n",
    "                \"kms:GenerateDataKey*\",\n",
    "                \"kms:DescribeKey\",\n",
    "            ],\n",
    "            \"Resource\": \"*\",\n",
    "        },\n",
    "        {\n",
    "            \"Sid\": \"Allow attachment of persistent resources\",\n",
    "            \"Effect\": \"Allow\",\n",
    "            \"Principal\": {\n",
    "                \"AWS\": \"arn:aws:iam::489389878001:user/22962256@student.uwa.edu.au\"\n",
    "            },\n",
    "            \"Action\": [\"kms:CreateGrant\", \"kms:ListGrants\", \"kms:RevokeGrant\"],\n",
    "            \"Resource\": \"*\",\n",
    "            \"Condition\": {\"Bool\": {\"kms:GrantIsForAWSResource\": \"true\"}},\n",
    "        },\n",
    "    ],\n",
    "}\n",
    "\n",
    "kms.put_key_policy(\n",
    "    KeyId=kms_response[\"KeyMetadata\"][\"KeyId\"], PolicyName=\"default\", Policy=json.dumps(policy)\n",
    ")"
   ]
  }
 ],
 "metadata": {
  "kernelspec": {
   "display_name": "Python 3",
   "language": "python",
   "name": "python3"
  },
  "language_info": {
   "codemirror_mode": {
    "name": "ipython",
    "version": 3
   },
   "file_extension": ".py",
   "mimetype": "text/x-python",
   "name": "python",
   "nbconvert_exporter": "python",
   "pygments_lexer": "ipython3",
   "version": "3.10.12"
  },
  "orig_nbformat": 4
 },
 "nbformat": 4,
 "nbformat_minor": 2
}
