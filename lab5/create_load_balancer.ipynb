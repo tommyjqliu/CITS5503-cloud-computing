{
 "cells": [
  {
   "cell_type": "code",
   "execution_count": 1,
   "metadata": {},
   "outputs": [],
   "source": [
    "import boto3\n",
    "ec2 = boto3.client('ec2')\n",
    "ssm = boto3.client('ssm')\n",
    "elb = boto3.client('elbv2')"
   ]
  },
  {
   "cell_type": "markdown",
   "metadata": {},
   "source": [
    "### [1] Create 2 EC2 instances in two different availability zones of a specific region. "
   ]
  },
  {
   "cell_type": "code",
   "execution_count": 2,
   "metadata": {},
   "outputs": [],
   "source": [
    "KEY_NAME = \"22962256-key\"\n",
    "SG_NAME = \"22962256-sg\"\n",
    "# Prepare subnet for ec2 creation\n",
    "VPC_ID = \"vpc-00da1b229d10a51b6\"\n",
    "SUBNETS = [\n",
    "    {\"id\": \"subnet-0a7d8e51199753df1\", \"name\": \"ap-southeast-2a\"},\n",
    "    {\"id\": \"subnet-0c1878c6a739707b7\", \"name\": \"ap-southeast-2b\"},\n",
    "]"
   ]
  },
  {
   "cell_type": "code",
   "execution_count": null,
   "metadata": {},
   "outputs": [],
   "source": [
    "# Create Key Pair\n",
    "key_response = ec2.create_key_pair(\n",
    "    KeyName=KEY_NAME\n",
    ")\n",
    "\n",
    "with open(\"22962256.pem\", \"wb\") as file:\n",
    "    # Write the variable to the file\n",
    "    file.write(key_response['KeyMaterial'].encode())"
   ]
  },
  {
   "cell_type": "code",
   "execution_count": 5,
   "metadata": {},
   "outputs": [
    {
     "data": {
      "text/plain": [
       "{'Return': True,\n",
       " 'SecurityGroupRules': [{'SecurityGroupRuleId': 'sgr-07cb1274d26043234',\n",
       "   'GroupId': 'sg-069f2ce852b14278a',\n",
       "   'GroupOwnerId': '489389878001',\n",
       "   'IsEgress': False,\n",
       "   'IpProtocol': 'tcp',\n",
       "   'FromPort': 22,\n",
       "   'ToPort': 22,\n",
       "   'CidrIpv4': '0.0.0.0/0'},\n",
       "  {'SecurityGroupRuleId': 'sgr-09f97549385bf5d1f',\n",
       "   'GroupId': 'sg-069f2ce852b14278a',\n",
       "   'GroupOwnerId': '489389878001',\n",
       "   'IsEgress': False,\n",
       "   'IpProtocol': 'tcp',\n",
       "   'FromPort': 80,\n",
       "   'ToPort': 80,\n",
       "   'CidrIpv4': '0.0.0.0/0'}],\n",
       " 'ResponseMetadata': {'RequestId': '04f0b74b-7cee-4c6c-818f-55813ced5418',\n",
       "  'HTTPStatusCode': 200,\n",
       "  'HTTPHeaders': {'x-amzn-requestid': '04f0b74b-7cee-4c6c-818f-55813ced5418',\n",
       "   'cache-control': 'no-cache, no-store',\n",
       "   'strict-transport-security': 'max-age=31536000; includeSubDomains',\n",
       "   'content-type': 'text/xml;charset=UTF-8',\n",
       "   'content-length': '1124',\n",
       "   'date': 'Sat, 23 Sep 2023 07:07:10 GMT',\n",
       "   'server': 'AmazonEC2'},\n",
       "  'RetryAttempts': 0}}"
      ]
     },
     "execution_count": 5,
     "metadata": {},
     "output_type": "execute_result"
    }
   ],
   "source": [
    "# Create Security Group\n",
    "sg_response = ec2.create_security_group(\n",
    "    Description=\"security group for development environment by boto3\",\n",
    "    GroupName=SG_NAME,\n",
    "    VpcId=VPC_ID,\n",
    ")\n",
    "\n",
    "sg_id = sg_response[\"GroupId\"]\n",
    "\n",
    "ec2.authorize_security_group_ingress(\n",
    "    GroupId=sg_id,\n",
    "    IpPermissions=[\n",
    "        {\n",
    "            \"IpProtocol\": \"tcp\",\n",
    "            \"FromPort\": 22,\n",
    "            \"ToPort\": 22,\n",
    "            \"IpRanges\": [{\"CidrIp\": \"0.0.0.0/0\"}],\n",
    "        },\n",
    "        {\n",
    "            \"IpProtocol\": \"tcp\",\n",
    "            \"FromPort\": 80,\n",
    "            \"ToPort\": 80,\n",
    "            \"IpRanges\": [{\"CidrIp\": \"0.0.0.0/0\"}],\n",
    "        },\n",
    "    ],\n",
    ")"
   ]
  },
  {
   "cell_type": "markdown",
   "metadata": {},
   "source": [
    "In the following step, we launch EC2 instances and install Apache web server on them. We will use these instances as targets for our load balancer.\n",
    "[Run commands on your Linux instance at launch](https://docs.aws.amazon.com/AWSEC2/latest/UserGuide/user-data.html)"
   ]
  },
  {
   "cell_type": "code",
   "execution_count": 12,
   "metadata": {},
   "outputs": [],
   "source": [
    "def get_userdata(name):\n",
    "    return (\n",
    "        \"\"\"\n",
    "            #cloud-config\n",
    "            runcmd:\n",
    "            - apt-get update\n",
    "            - apt install apache2 -y\n",
    "            - chmod 777 /var/www/html/index.html\n",
    "            - echo \"This is page from 22962256-%s.\" > /var/www/html/index.html\n",
    "        \"\"\"\n",
    "        % name\n",
    "    )\n",
    "\n",
    "\n",
    "instance_responces = list(\n",
    "    map(\n",
    "        lambda subnet: ec2.run_instances(\n",
    "            ImageId=\"ami-d38a4ab1\",\n",
    "            InstanceType=\"t2.micro\",\n",
    "            MaxCount=1,\n",
    "            MinCount=1,\n",
    "            KeyName=KEY_NAME,\n",
    "            SubnetId=subnet[\"id\"],\n",
    "            SecurityGroupIds=[sg_id],\n",
    "            UserData=get_userdata(subnet[\"name\"]),\n",
    "            TagSpecifications=[\n",
    "                {\n",
    "                    \"ResourceType\": \"instance\",\n",
    "                    \"Tags\": [\n",
    "                        {\"Key\": \"Name\", \"Value\": \"22962256-\" + subnet[\"name\"]},\n",
    "                    ],\n",
    "                },\n",
    "            ],\n",
    "        ),\n",
    "        SUBNETS,\n",
    "    )\n",
    ")"
   ]
  },
  {
   "cell_type": "code",
   "execution_count": 7,
   "metadata": {},
   "outputs": [],
   "source": [
    "instance_ids = list(\n",
    "    map(lambda response: response[\"Instances\"][0][\"InstanceId\"], instance_responces)\n",
    ")"
   ]
  },
  {
   "cell_type": "markdown",
   "metadata": {},
   "source": [
    "### Clean-up"
   ]
  },
  {
   "cell_type": "code",
   "execution_count": null,
   "metadata": {},
   "outputs": [],
   "source": [
    "ec2.delete_key_pair(KeyName=KEY_NAME)\n",
    "ec2.delete_security_group(GroupId=sg_id)\n",
    "ec2.terminate_instances(InstanceIds=instance_ids)"
   ]
  }
 ],
 "metadata": {
  "kernelspec": {
   "display_name": "Python 3",
   "language": "python",
   "name": "python3"
  },
  "language_info": {
   "codemirror_mode": {
    "name": "ipython",
    "version": 3
   },
   "file_extension": ".py",
   "mimetype": "text/x-python",
   "name": "python",
   "nbconvert_exporter": "python",
   "pygments_lexer": "ipython3",
   "version": "3.10.12"
  },
  "orig_nbformat": 4
 },
 "nbformat": 4,
 "nbformat_minor": 2
}
