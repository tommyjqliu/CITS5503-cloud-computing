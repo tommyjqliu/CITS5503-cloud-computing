{
 "cells": [
  {
   "cell_type": "code",
   "execution_count": 1,
   "metadata": {},
   "outputs": [],
   "source": [
    "import boto3\n",
    "ec2 = boto3.client('ec2')\n",
    "elb = boto3.client('elbv2')"
   ]
  },
  {
   "cell_type": "markdown",
   "metadata": {},
   "source": [
    "### [1] Create 2 EC2 instances in two different availability zones of a specific region. "
   ]
  },
  {
   "cell_type": "code",
   "execution_count": 2,
   "metadata": {},
   "outputs": [],
   "source": [
    "KEY_NAME = \"22962256-key\"\n",
    "SG_NAME = \"22962256-sg\"\n",
    "ELB_NAME = \"22962256-elb\"\n",
    "TARGET_GROUP_NAME = \"22962256-tg\"\n",
    "# Prepare subnet for ec2 creation\n",
    "VPC_ID = \"vpc-00da1b229d10a51b6\"\n",
    "SUBNETS = [\n",
    "    {\"id\": \"subnet-0a7d8e51199753df1\", \"name\": \"ap-southeast-2a\"},\n",
    "    {\"id\": \"subnet-0c1878c6a739707b7\", \"name\": \"ap-southeast-2b\"},\n",
    "]"
   ]
  },
  {
   "cell_type": "code",
   "execution_count": 3,
   "metadata": {},
   "outputs": [
    {
     "data": {
      "text/plain": [
       "{'Return': True,\n",
       " 'SecurityGroupRules': [{'SecurityGroupRuleId': 'sgr-058ba5cd452a45ae8',\n",
       "   'GroupId': 'sg-0678e728c9bab2d84',\n",
       "   'GroupOwnerId': '489389878001',\n",
       "   'IsEgress': False,\n",
       "   'IpProtocol': 'tcp',\n",
       "   'FromPort': 22,\n",
       "   'ToPort': 22,\n",
       "   'CidrIpv4': '0.0.0.0/0'},\n",
       "  {'SecurityGroupRuleId': 'sgr-0873192b53f9d2bfc',\n",
       "   'GroupId': 'sg-0678e728c9bab2d84',\n",
       "   'GroupOwnerId': '489389878001',\n",
       "   'IsEgress': False,\n",
       "   'IpProtocol': 'tcp',\n",
       "   'FromPort': 80,\n",
       "   'ToPort': 80,\n",
       "   'CidrIpv4': '0.0.0.0/0'}],\n",
       " 'ResponseMetadata': {'RequestId': '67d763c3-2c90-4159-8dc5-72568803e86e',\n",
       "  'HTTPStatusCode': 200,\n",
       "  'HTTPHeaders': {'x-amzn-requestid': '67d763c3-2c90-4159-8dc5-72568803e86e',\n",
       "   'cache-control': 'no-cache, no-store',\n",
       "   'strict-transport-security': 'max-age=31536000; includeSubDomains',\n",
       "   'content-type': 'text/xml;charset=UTF-8',\n",
       "   'content-length': '1124',\n",
       "   'date': 'Mon, 25 Sep 2023 02:49:19 GMT',\n",
       "   'server': 'AmazonEC2'},\n",
       "  'RetryAttempts': 0}}"
      ]
     },
     "execution_count": 3,
     "metadata": {},
     "output_type": "execute_result"
    }
   ],
   "source": [
    "# Create Security Group\n",
    "sg_response = ec2.create_security_group(\n",
    "    Description=\"security group for development environment by boto3\",\n",
    "    GroupName=SG_NAME,\n",
    "    VpcId=VPC_ID,\n",
    ")\n",
    "\n",
    "sg_id = sg_response[\"GroupId\"]\n",
    "\n",
    "ec2.authorize_security_group_ingress(\n",
    "    GroupId=sg_id,\n",
    "    IpPermissions=[\n",
    "        {\n",
    "            \"IpProtocol\": \"tcp\",\n",
    "            \"FromPort\": 22,\n",
    "            \"ToPort\": 22,\n",
    "            \"IpRanges\": [{\"CidrIp\": \"0.0.0.0/0\"}],\n",
    "        },\n",
    "        {\n",
    "            \"IpProtocol\": \"tcp\",\n",
    "            \"FromPort\": 80,\n",
    "            \"ToPort\": 80,\n",
    "            \"IpRanges\": [{\"CidrIp\": \"0.0.0.0/0\"}],\n",
    "        },\n",
    "    ],\n",
    ")"
   ]
  },
  {
   "cell_type": "markdown",
   "metadata": {},
   "source": [
    "In the following step, we launch EC2 instances and install Apache web server on them. We will use these instances as targets for our load balancer.\n",
    "[Run commands on your Linux instance at launch](https://docs.aws.amazon.com/AWSEC2/latest/UserGuide/user-data.html)"
   ]
  },
  {
   "cell_type": "code",
   "execution_count": 4,
   "metadata": {},
   "outputs": [],
   "source": [
    "def get_userdata(name):\n",
    "    return (\n",
    "        \"\"\"\n",
    "            #cloud-config\n",
    "            runcmd:\n",
    "            - apt-get update\n",
    "            - apt install apache2 -y\n",
    "            - chmod 777 /var/www/html/index.html\n",
    "            - echo \"This is page from 22962256-%s.\" > /var/www/html/index.html\n",
    "        \"\"\"\n",
    "        % name\n",
    "    )\n",
    "\n",
    "\n",
    "instance_responces = list(\n",
    "    map(\n",
    "        lambda subnet: ec2.run_instances(\n",
    "            ImageId=\"ami-d38a4ab1\",\n",
    "            InstanceType=\"t2.micro\",\n",
    "            MaxCount=1,\n",
    "            MinCount=1,\n",
    "            KeyName=KEY_NAME,\n",
    "            SubnetId=subnet[\"id\"],\n",
    "            SecurityGroupIds=[sg_id],\n",
    "            UserData=get_userdata(subnet[\"name\"]),\n",
    "            TagSpecifications=[\n",
    "                {\n",
    "                    \"ResourceType\": \"instance\",\n",
    "                    \"Tags\": [\n",
    "                        {\"Key\": \"Name\", \"Value\": \"22962256-\" + subnet[\"name\"]},\n",
    "                    ],\n",
    "                },\n",
    "            ],\n",
    "        ),\n",
    "        SUBNETS,\n",
    "    )\n",
    ")"
   ]
  },
  {
   "cell_type": "code",
   "execution_count": 5,
   "metadata": {},
   "outputs": [],
   "source": [
    "instance_ids = list(\n",
    "    map(lambda response: response[\"Instances\"][0][\"InstanceId\"], instance_responces)\n",
    ")"
   ]
  },
  {
   "cell_type": "markdown",
   "metadata": {},
   "source": [
    "### [2] Create the Application Load Balancer.\n",
    "**[a] Create the load balancer and specify the two region subnets and a security group** "
   ]
  },
  {
   "cell_type": "code",
   "execution_count": 6,
   "metadata": {},
   "outputs": [],
   "source": [
    "load_balancer_response = elb.create_load_balancer(\n",
    "    Name=ELB_NAME,\n",
    "    Subnets=list(map(lambda subnet: subnet[\"id\"], SUBNETS)),\n",
    "    SecurityGroups=[sg_id],\n",
    "    Scheme=\"internet-facing\",\n",
    "    IpAddressType=\"ipv4\",\n",
    ")\n"
   ]
  },
  {
   "cell_type": "markdown",
   "metadata": {},
   "source": [
    "**[c] Create a target group using the same VPC that you used to create the instances** "
   ]
  },
  {
   "cell_type": "code",
   "execution_count": 8,
   "metadata": {},
   "outputs": [],
   "source": [
    "target_group_response = elb.create_target_group(\n",
    "    Name=TARGET_GROUP_NAME,\n",
    "    Protocol=\"HTTP\",\n",
    "    Port=80,\n",
    "    VpcId=VPC_ID,\n",
    "    HealthCheckProtocol=\"HTTP\",\n",
    "    HealthCheckEnabled=True,\n",
    "    HealthCheckIntervalSeconds=30,\n",
    "    HealthCheckTimeoutSeconds=5,\n",
    "    HealthyThresholdCount=5,\n",
    "    UnhealthyThresholdCount=2,\n",
    "    TargetType=\"instance\",\n",
    ")\n",
    "target_group_arn = target_group_response[\"TargetGroups\"][0][\"TargetGroupArn\"]"
   ]
  },
  {
   "cell_type": "markdown",
   "metadata": {},
   "source": [
    "**[b] Create a listener with a default rule Protocol: HTTP and Port 80 forwarding on to the target group** "
   ]
  },
  {
   "cell_type": "code",
   "execution_count": 9,
   "metadata": {},
   "outputs": [],
   "source": [
    "response = elb.create_listener(\n",
    "    LoadBalancerArn=load_balancer_response[\"LoadBalancers\"][0][\"LoadBalancerArn\"],\n",
    "    Protocol='HTTP',\n",
    "    Port=80,\n",
    "    DefaultActions=[\n",
    "        {\n",
    "            'Type': 'forward',\n",
    "            'ForwardConfig': {\n",
    "                'TargetGroups': [\n",
    "                    {\n",
    "                        'TargetGroupArn': target_group_arn,\n",
    "                    },\n",
    "                ],\n",
    "            }\n",
    "        },\n",
    "    ],\n",
    ")"
   ]
  },
  {
   "cell_type": "markdown",
   "metadata": {},
   "source": [
    "**[d] Register targets in the target group**"
   ]
  },
  {
   "cell_type": "code",
   "execution_count": 10,
   "metadata": {},
   "outputs": [],
   "source": [
    "register_targets_response = elb.register_targets(\n",
    "    TargetGroupArn=target_group_arn,\n",
    "    Targets=list(map(lambda id: {\"Id\": id, \"Port\": 80}, instance_ids)),\n",
    ")"
   ]
  },
  {
   "cell_type": "markdown",
   "metadata": {},
   "source": [
    "### Clean-up"
   ]
  },
  {
   "cell_type": "code",
   "execution_count": 12,
   "metadata": {},
   "outputs": [
    {
     "ename": "ClientError",
     "evalue": "An error occurred (DependencyViolation) when calling the DeleteSecurityGroup operation: resource sg-0678e728c9bab2d84 has a dependent object",
     "output_type": "error",
     "traceback": [
      "\u001b[0;31m---------------------------------------------------------------------------\u001b[0m",
      "\u001b[0;31mClientError\u001b[0m                               Traceback (most recent call last)",
      "\u001b[1;32m/home/tommy/Repository/CITS5503_Lab/lab5/create_load_balancer.ipynb Cell 17\u001b[0m line \u001b[0;36m4\n\u001b[1;32m      <a href='vscode-notebook-cell://ssh-remote%2B127.0.0.1/home/tommy/Repository/CITS5503_Lab/lab5/create_load_balancer.ipynb#X21sdnNjb2RlLXJlbW90ZQ%3D%3D?line=1'>2</a>\u001b[0m ec2\u001b[39m.\u001b[39mterminate_instances(InstanceIds\u001b[39m=\u001b[39minstance_ids)\n\u001b[1;32m      <a href='vscode-notebook-cell://ssh-remote%2B127.0.0.1/home/tommy/Repository/CITS5503_Lab/lab5/create_load_balancer.ipynb#X21sdnNjb2RlLXJlbW90ZQ%3D%3D?line=2'>3</a>\u001b[0m elb\u001b[39m.\u001b[39mdelete_load_balancer(LoadBalancerArn\u001b[39m=\u001b[39mload_balancer_response[\u001b[39m\"\u001b[39m\u001b[39mLoadBalancers\u001b[39m\u001b[39m\"\u001b[39m][\u001b[39m0\u001b[39m][\u001b[39m\"\u001b[39m\u001b[39mLoadBalancerArn\u001b[39m\u001b[39m\"\u001b[39m])\n\u001b[0;32m----> <a href='vscode-notebook-cell://ssh-remote%2B127.0.0.1/home/tommy/Repository/CITS5503_Lab/lab5/create_load_balancer.ipynb#X21sdnNjb2RlLXJlbW90ZQ%3D%3D?line=3'>4</a>\u001b[0m ec2\u001b[39m.\u001b[39;49mdelete_security_group(GroupId\u001b[39m=\u001b[39;49msg_id)\n",
      "File \u001b[0;32m~/.local/lib/python3.10/site-packages/botocore/client.py:535\u001b[0m, in \u001b[0;36mClientCreator._create_api_method.<locals>._api_call\u001b[0;34m(self, *args, **kwargs)\u001b[0m\n\u001b[1;32m    531\u001b[0m     \u001b[39mraise\u001b[39;00m \u001b[39mTypeError\u001b[39;00m(\n\u001b[1;32m    532\u001b[0m         \u001b[39mf\u001b[39m\u001b[39m\"\u001b[39m\u001b[39m{\u001b[39;00mpy_operation_name\u001b[39m}\u001b[39;00m\u001b[39m() only accepts keyword arguments.\u001b[39m\u001b[39m\"\u001b[39m\n\u001b[1;32m    533\u001b[0m     )\n\u001b[1;32m    534\u001b[0m \u001b[39m# The \"self\" in this scope is referring to the BaseClient.\u001b[39;00m\n\u001b[0;32m--> 535\u001b[0m \u001b[39mreturn\u001b[39;00m \u001b[39mself\u001b[39;49m\u001b[39m.\u001b[39;49m_make_api_call(operation_name, kwargs)\n",
      "File \u001b[0;32m~/.local/lib/python3.10/site-packages/botocore/client.py:980\u001b[0m, in \u001b[0;36mBaseClient._make_api_call\u001b[0;34m(self, operation_name, api_params)\u001b[0m\n\u001b[1;32m    978\u001b[0m     error_code \u001b[39m=\u001b[39m parsed_response\u001b[39m.\u001b[39mget(\u001b[39m\"\u001b[39m\u001b[39mError\u001b[39m\u001b[39m\"\u001b[39m, {})\u001b[39m.\u001b[39mget(\u001b[39m\"\u001b[39m\u001b[39mCode\u001b[39m\u001b[39m\"\u001b[39m)\n\u001b[1;32m    979\u001b[0m     error_class \u001b[39m=\u001b[39m \u001b[39mself\u001b[39m\u001b[39m.\u001b[39mexceptions\u001b[39m.\u001b[39mfrom_code(error_code)\n\u001b[0;32m--> 980\u001b[0m     \u001b[39mraise\u001b[39;00m error_class(parsed_response, operation_name)\n\u001b[1;32m    981\u001b[0m \u001b[39melse\u001b[39;00m:\n\u001b[1;32m    982\u001b[0m     \u001b[39mreturn\u001b[39;00m parsed_response\n",
      "\u001b[0;31mClientError\u001b[0m: An error occurred (DependencyViolation) when calling the DeleteSecurityGroup operation: resource sg-0678e728c9bab2d84 has a dependent object"
     ]
    }
   ],
   "source": [
    "# Clean up\n",
    "ec2.terminate_instances(InstanceIds=instance_ids)\n",
    "elb.delete_load_balancer(LoadBalancerArn=load_balancer_response[\"LoadBalancers\"][0][\"LoadBalancerArn\"])\n",
    "ec2.delete_security_group(GroupId=sg_id)"
   ]
  }
 ],
 "metadata": {
  "kernelspec": {
   "display_name": "Python 3",
   "language": "python",
   "name": "python3"
  },
  "language_info": {
   "codemirror_mode": {
    "name": "ipython",
    "version": 3
   },
   "file_extension": ".py",
   "mimetype": "text/x-python",
   "name": "python",
   "nbconvert_exporter": "python",
   "pygments_lexer": "ipython3",
   "version": "3.10.12"
  },
  "orig_nbformat": 4
 },
 "nbformat": 4,
 "nbformat_minor": 2
}
