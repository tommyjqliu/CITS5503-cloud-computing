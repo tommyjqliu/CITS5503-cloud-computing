{
 "cells": [
  {
   "cell_type": "code",
   "execution_count": 6,
   "metadata": {},
   "outputs": [],
   "source": [
    "import boto3\n",
    "ec2 = boto3.client('ec2')\n",
    "elb = boto3.client('elbv2')"
   ]
  },
  {
   "cell_type": "code",
   "execution_count": 8,
   "metadata": {},
   "outputs": [],
   "source": [
    "KEY_NAME = \"22962256-key\"\n",
    "SG_NAME = \"22962256-sg\"\n",
    "ELB_NAME = \"22962256-elb\"\n",
    "TARGET_GROUP_NAME = \"22962256-tg\"\n",
    "\n",
    "# Prepare subnet for ec2 creation\n",
    "VPC_ID = \"vpc-00da1b229d10a51b6\"\n",
    "SUBNETS = [\n",
    "    {\"id\": \"subnet-0a7d8e51199753df1\", \"name\": \"ap-southeast-2a\"},\n",
    "    {\"id\": \"subnet-0c1878c6a739707b7\", \"name\": \"ap-southeast-2b\"},\n",
    "]\n",
    "\n",
    "sg_id = \"sg-00782b687d5272549\""
   ]
  },
  {
   "cell_type": "code",
   "execution_count": 3,
   "metadata": {},
   "outputs": [],
   "source": [
    "key_response = ec2.create_key_pair(\n",
    "    KeyName=KEY_NAME\n",
    ")\n",
    "\n",
    "with open(\"22962256_key.pem\", \"wb\") as file:\n",
    "    # Write the variable to the file\n",
    "    file.write(key_response['KeyMaterial'].encode())"
   ]
  },
  {
   "cell_type": "code",
   "execution_count": 4,
   "metadata": {},
   "outputs": [
    {
     "data": {
      "text/plain": [
       "{'Return': True,\n",
       " 'SecurityGroupRules': [{'SecurityGroupRuleId': 'sgr-0be190bf4da359e3b',\n",
       "   'GroupId': 'sg-00782b687d5272549',\n",
       "   'GroupOwnerId': '489389878001',\n",
       "   'IsEgress': False,\n",
       "   'IpProtocol': 'tcp',\n",
       "   'FromPort': 22,\n",
       "   'ToPort': 22,\n",
       "   'CidrIpv4': '0.0.0.0/0'},\n",
       "  {'SecurityGroupRuleId': 'sgr-0f5936f55679953ea',\n",
       "   'GroupId': 'sg-00782b687d5272549',\n",
       "   'GroupOwnerId': '489389878001',\n",
       "   'IsEgress': False,\n",
       "   'IpProtocol': 'tcp',\n",
       "   'FromPort': 80,\n",
       "   'ToPort': 80,\n",
       "   'CidrIpv4': '0.0.0.0/0'}],\n",
       " 'ResponseMetadata': {'RequestId': 'b15773d4-46b5-4868-a5e0-4bd13fd52402',\n",
       "  'HTTPStatusCode': 200,\n",
       "  'HTTPHeaders': {'x-amzn-requestid': 'b15773d4-46b5-4868-a5e0-4bd13fd52402',\n",
       "   'cache-control': 'no-cache, no-store',\n",
       "   'strict-transport-security': 'max-age=31536000; includeSubDomains',\n",
       "   'content-type': 'text/xml;charset=UTF-8',\n",
       "   'content-length': '1124',\n",
       "   'date': 'Thu, 28 Sep 2023 02:43:45 GMT',\n",
       "   'server': 'AmazonEC2'},\n",
       "  'RetryAttempts': 0}}"
      ]
     },
     "execution_count": 4,
     "metadata": {},
     "output_type": "execute_result"
    }
   ],
   "source": [
    "# Create Security Group\n",
    "sg_response = ec2.create_security_group(\n",
    "    Description=\"security group for development environment by boto3\",\n",
    "    GroupName=SG_NAME,\n",
    "    VpcId=VPC_ID,\n",
    ")\n",
    "\n",
    "sg_id = sg_response[\"GroupId\"]\n",
    "\n",
    "\n",
    "ec2.authorize_security_group_ingress(\n",
    "    GroupId=sg_id,\n",
    "    IpPermissions=[\n",
    "        {\n",
    "            \"IpProtocol\": \"tcp\",\n",
    "            \"FromPort\": 22,\n",
    "            \"ToPort\": 22,\n",
    "            \"IpRanges\": [{\"CidrIp\": \"0.0.0.0/0\"}],\n",
    "        },\n",
    "        {\n",
    "            \"IpProtocol\": \"tcp\",\n",
    "            \"FromPort\": 80,\n",
    "            \"ToPort\": 80,\n",
    "            \"IpRanges\": [{\"CidrIp\": \"0.0.0.0/0\"}],\n",
    "        },\n",
    "    ],\n",
    ")"
   ]
  },
  {
   "cell_type": "code",
   "execution_count": 9,
   "metadata": {},
   "outputs": [],
   "source": [
    "load_balancer_response = elb.create_load_balancer(\n",
    "    Name=ELB_NAME,\n",
    "    Subnets=list(map(lambda subnet: subnet[\"id\"], SUBNETS)),\n",
    "    SecurityGroups=[sg_id],\n",
    "    Scheme=\"internet-facing\",\n",
    "    IpAddressType=\"ipv4\",\n",
    ")"
   ]
  },
  {
   "cell_type": "code",
   "execution_count": 12,
   "metadata": {},
   "outputs": [],
   "source": [
    "target_group_response = elb.create_target_group(\n",
    "    Name=TARGET_GROUP_NAME,\n",
    "    Protocol=\"HTTP\",\n",
    "    Port=80,\n",
    "    VpcId=VPC_ID,\n",
    "    HealthCheckProtocol=\"HTTP\",\n",
    "    HealthCheckPath=\"/polls/\",\n",
    "    HealthCheckEnabled=True,\n",
    "    HealthCheckIntervalSeconds=30,\n",
    "    HealthCheckTimeoutSeconds=5,\n",
    "    HealthyThresholdCount=5,\n",
    "    UnhealthyThresholdCount=2,\n",
    "    TargetType=\"instance\",\n",
    ")\n",
    "target_group_arn = target_group_response[\"TargetGroups\"][0][\"TargetGroupArn\"]"
   ]
  },
  {
   "cell_type": "code",
   "execution_count": 13,
   "metadata": {},
   "outputs": [],
   "source": [
    "listener_response = elb.create_listener(\n",
    "    LoadBalancerArn=load_balancer_response[\"LoadBalancers\"][0][\"LoadBalancerArn\"],\n",
    "    Protocol='HTTP',\n",
    "    Port=80,\n",
    "    DefaultActions=[\n",
    "        {\n",
    "            'Type': 'forward',\n",
    "            'ForwardConfig': {\n",
    "                'TargetGroups': [\n",
    "                    {\n",
    "                        'TargetGroupArn': target_group_arn,\n",
    "                    },\n",
    "                ],\n",
    "            }\n",
    "        },\n",
    "    ],\n",
    ")"
   ]
  },
  {
   "cell_type": "code",
   "execution_count": 14,
   "metadata": {},
   "outputs": [],
   "source": [
    "instance_responces = list(\n",
    "    map(\n",
    "        lambda subnet: ec2.run_instances(\n",
    "            # ImageId=\"ami-0310483fb2b488153\",\n",
    "            ImageId=\"ami-0c7c2fcf9f0885c8c\",\n",
    "            InstanceType=\"t2.micro\",\n",
    "            MaxCount=1,\n",
    "            MinCount=1,\n",
    "            KeyName=KEY_NAME,   \n",
    "            SubnetId=subnet[\"id\"],\n",
    "            SecurityGroupIds=[sg_id],\n",
    "            # UserData=get_userdata(subnet[\"name\"]),\n",
    "            TagSpecifications=[\n",
    "                {\n",
    "                    \"ResourceType\": \"instance\",\n",
    "                    \"Tags\": [\n",
    "                        {\"Key\": \"Name\", \"Value\": \"22962256-\" + subnet[\"name\"]},\n",
    "                    ],\n",
    "                },\n",
    "            ],\n",
    "        ),\n",
    "        SUBNETS,\n",
    "    )\n",
    ")"
   ]
  },
  {
   "cell_type": "code",
   "execution_count": 15,
   "metadata": {},
   "outputs": [],
   "source": [
    "instance_ids = list(\n",
    "    map(lambda response: response[\"Instances\"][0][\"InstanceId\"], instance_responces)\n",
    ")\n",
    "register_targets_response = elb.register_targets(\n",
    "    TargetGroupArn=target_group_arn,\n",
    "    Targets=list(map(lambda id: {\"Id\": id, \"Port\": 80}, instance_ids)),\n",
    ")"
   ]
  }
 ],
 "metadata": {
  "kernelspec": {
   "display_name": "Python 3",
   "language": "python",
   "name": "python3"
  },
  "language_info": {
   "codemirror_mode": {
    "name": "ipython",
    "version": 3
   },
   "file_extension": ".py",
   "mimetype": "text/x-python",
   "name": "python",
   "nbconvert_exporter": "python",
   "pygments_lexer": "ipython3",
   "version": "3.10.12"
  },
  "orig_nbformat": 4
 },
 "nbformat": 4,
 "nbformat_minor": 2
}
