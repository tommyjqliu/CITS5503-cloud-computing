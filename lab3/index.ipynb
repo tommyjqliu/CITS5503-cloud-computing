{
 "cells": [
  {
   "cell_type": "code",
   "execution_count": 20,
   "metadata": {},
   "outputs": [],
   "source": [
    "import os\n",
    "import sys\n",
    "import boto3\n",
    "import argparse\n",
    "from tqdm import tqdm\n",
    "from botocore.exceptions import ClientError\n",
    "import logging\n",
    "from concurrent.futures import ThreadPoolExecutor"
   ]
  },
  {
   "cell_type": "code",
   "execution_count": 15,
   "metadata": {},
   "outputs": [],
   "source": [
    "ROOT_DIR = \".\"\n",
    "ROOT_S3_DIR = \"22962256-cloudstorage\"\n",
    "bucket_config = {\"LocationConstraint\": \"ap-southeast-2\"}\n",
    "\n",
    "# Client initialise\n",
    "s3_client = boto3.client(\"s3\")"
   ]
  },
  {
   "cell_type": "code",
   "execution_count": 54,
   "metadata": {},
   "outputs": [],
   "source": [
    "def upload_file(filepath):\n",
    "    filename = os.path.basename(filepath)\n",
    "    try:\n",
    "        with tqdm(\n",
    "            total=os.path.getsize(filepath),\n",
    "            unit=\"B\",\n",
    "            unit_scale=True,\n",
    "            desc=filename,\n",
    "            dynamic_ncols=True,\n",
    "        ) as progress:\n",
    "            s3_client.upload_file(\n",
    "                filepath,\n",
    "                ROOT_S3_DIR,\n",
    "                filename,\n",
    "                Callback=lambda bytes_transferred: progress.update(bytes_transferred),\n",
    "            )\n",
    "\n",
    "    except ClientError as e:\n",
    "        logging.error(e)\n",
    "        return False\n",
    "    return True"
   ]
  },
  {
   "cell_type": "code",
   "execution_count": 55,
   "metadata": {},
   "outputs": [],
   "source": [
    "files_to_upload = []\n",
    "for dir_name, subdir_list, file_list in os.walk(ROOT_DIR, topdown=True):\n",
    "        if dir_name != ROOT_DIR:\n",
    "            for fname in file_list:\n",
    "                # upload_file(\"%s/%s\" % (dir_name, fname))\n",
    "                files_to_upload.append(\"%s/%s\" % (dir_name, fname))"
   ]
  },
  {
   "cell_type": "code",
   "execution_count": 56,
   "metadata": {},
   "outputs": [
    {
     "name": "stderr",
     "output_type": "stream",
     "text": [
      "rootfile.txt:   0%|          | 0.00/45.0 [00:00<?, ?B/s]"
     ]
    },
    {
     "name": "stderr",
     "output_type": "stream",
     "text": [
      "\n",
      "\n",
      "\n",
      "\u001b[A\u001b[A\u001b[A\n",
      "\u001b[A\n",
      "\n",
      "\u001b[A\u001b[A\n",
      "\n",
      "\n",
      "\n",
      "\u001b[A\u001b[A\u001b[A\u001b[A\n",
      "\n",
      "\n",
      "\n",
      "\n",
      "\u001b[A\u001b[A\u001b[A\u001b[A\u001b[A\n",
      "\n",
      "\n",
      "\n",
      "\n",
      "\n",
      "rootfile copy 2.txt: 100%|██████████| 45.0/45.0 [00:05<00:00, 7.77B/s]\n",
      "subfile copy 3.txt: 100%|██████████| 45.0/45.0 [00:00<00:00, 338B/s]\n",
      "subfile copy 2.txt: 100%|██████████| 45.0/45.0 [00:00<00:00, 311B/s]\n",
      "rootfile.txt: 100%|██████████| 45.0/45.0 [00:06<00:00, 7.07B/s]\n",
      "\n",
      "internalfile copy.txt: 100%|██████████| 45.0/45.0 [00:06<00:00, 7.16B/s]\n",
      "\n",
      "\n",
      "\n",
      "\n",
      "\n",
      "\u001b[A\u001b[A\u001b[A\u001b[A\u001b[A\n",
      "\n",
      "\n",
      "\u001b[A\u001b[A\u001b[A\n",
      "\n",
      "\n",
      "\n",
      "\n",
      "\n",
      "\u001b[A\u001b[A\u001b[A\u001b[A\u001b[A\u001b[A\n",
      "\n",
      "\n",
      "\n",
      "subfile copy.txt: 100%|██████████| 45.0/45.0 [00:06<00:00, 6.97B/s]\n",
      "subfile.txt: 100%|██████████| 45.0/45.0 [00:06<00:00, 6.99B/s]\n",
      "\n",
      "\n",
      "internalfile copy 2.txt: 100%|██████████| 45.0/45.0 [00:06<00:00, 6.80B/s]\n",
      "internalfile.txt: 100%|██████████| 45.0/45.0 [00:06<00:00, 6.66B/s]\n",
      "rootfile copy.txt: 100%|██████████| 45.0/45.0 [00:06<00:00, 6.75B/s]\n"
     ]
    }
   ],
   "source": [
    "with ThreadPoolExecutor() as executor:\n",
    "    executor.map(upload_file, files_to_upload)\n",
    "\n"
   ]
  },
  {
   "cell_type": "code",
   "execution_count": 11,
   "metadata": {},
   "outputs": [],
   "source": [
    "import boto3\n",
    "\n",
    "s3_client = boto3.client(\"s3\")\n",
    "dynamodb = boto3.resource('dynamodb', endpoint_url='http://localhost:8000')\n"
   ]
  },
  {
   "cell_type": "code",
   "execution_count": 27,
   "metadata": {},
   "outputs": [
    {
     "data": {
      "text/plain": [
       "dynamodb.Table(name='CloudFiles')"
      ]
     },
     "execution_count": 27,
     "metadata": {},
     "output_type": "execute_result"
    }
   ],
   "source": [
    "table = dynamodb.create_table(\n",
    "    TableName=\"CloudFiles\",\n",
    "    KeySchema=[\n",
    "        {\"AttributeName\": \"path\", \"KeyType\": \"HASH\"},\n",
    "        {\"AttributeName\": \"userId\", \"KeyType\": \"RANGE\"},\n",
    "    ],\n",
    "    AttributeDefinitions=[\n",
    "        {\"AttributeName\": \"path\", \"AttributeType\": \"S\"},\n",
    "        {\"AttributeName\": \"userId\", \"AttributeType\": \"S\"},\n",
    "    ],\n",
    "    ProvisionedThroughput={\"ReadCapacityUnits\": 5, \"WriteCapacityUnits\": 5},\n",
    ")\n",
    "table"
   ]
  },
  {
   "cell_type": "code",
   "execution_count": 28,
   "metadata": {},
   "outputs": [],
   "source": [
    "files = s3_client.list_objects(Bucket=ROOT_S3_DIR)[\"Contents\"]\n",
    "for file in files:\n",
    "    acl = s3_client.get_object_acl(Bucket=ROOT_S3_DIR, Key=file[\"Key\"])\n",
    "    permissions = acl[\"Grants\"]\n",
    "    table.put_item(\n",
    "        Item={\n",
    "            \"userId\": file[\"Owner\"][\"ID\"],\n",
    "            \"fileName\": os.path.basename(file[\"Key\"]),\n",
    "            \"path\": file[\"Key\"],\n",
    "            \"lastUpdated\": str(file[\"LastModified\"]),\n",
    "            \"owner\": file[\"Owner\"][\"DisplayName\"],\n",
    "            \"permissions\": str(permissions),\n",
    "        }\n",
    "    )"
   ]
  },
  {
   "cell_type": "code",
   "execution_count": 29,
   "metadata": {},
   "outputs": [
    {
     "data": {
      "text/plain": [
       "{'Items': [{'owner': 'zhi.zhang',\n",
       "   'path': 'rootdir/rootfile.txt',\n",
       "   'lastUpdated': '2023-08-24 08:12:44+00:00',\n",
       "   'fileName': 'rootfile.txt',\n",
       "   'userId': '2a5fac7aada1ad2caa48c9ab08cc4e2428d4eb596108daa3b59f1204ae96482e',\n",
       "   'permissions': \"[{'Grantee': {'DisplayName': 'zhi.zhang', 'ID': '2a5fac7aada1ad2caa48c9ab08cc4e2428d4eb596108daa3b59f1204ae96482e', 'Type': 'CanonicalUser'}, 'Permission': 'FULL_CONTROL'}]\"},\n",
       "  {'owner': 'zhi.zhang',\n",
       "   'path': 'subdir/subfile.txt',\n",
       "   'lastUpdated': '2023-08-24 08:12:45+00:00',\n",
       "   'fileName': 'subfile.txt',\n",
       "   'userId': '2a5fac7aada1ad2caa48c9ab08cc4e2428d4eb596108daa3b59f1204ae96482e',\n",
       "   'permissions': \"[{'Grantee': {'DisplayName': 'zhi.zhang', 'ID': '2a5fac7aada1ad2caa48c9ab08cc4e2428d4eb596108daa3b59f1204ae96482e', 'Type': 'CanonicalUser'}, 'Permission': 'FULL_CONTROL'}]\"},\n",
       "  {'owner': 'zhi.zhang',\n",
       "   'path': 'rootdir/internaldir/internalfile copy.txt',\n",
       "   'lastUpdated': '2023-08-24 08:12:44+00:00',\n",
       "   'fileName': 'internalfile copy.txt',\n",
       "   'userId': '2a5fac7aada1ad2caa48c9ab08cc4e2428d4eb596108daa3b59f1204ae96482e',\n",
       "   'permissions': \"[{'Grantee': {'DisplayName': 'zhi.zhang', 'ID': '2a5fac7aada1ad2caa48c9ab08cc4e2428d4eb596108daa3b59f1204ae96482e', 'Type': 'CanonicalUser'}, 'Permission': 'FULL_CONTROL'}]\"},\n",
       "  {'owner': 'zhi.zhang',\n",
       "   'path': 'rootdir/rootfile copy 2.txt',\n",
       "   'lastUpdated': '2023-08-24 08:12:44+00:00',\n",
       "   'fileName': 'rootfile copy 2.txt',\n",
       "   'userId': '2a5fac7aada1ad2caa48c9ab08cc4e2428d4eb596108daa3b59f1204ae96482e',\n",
       "   'permissions': \"[{'Grantee': {'DisplayName': 'zhi.zhang', 'ID': '2a5fac7aada1ad2caa48c9ab08cc4e2428d4eb596108daa3b59f1204ae96482e', 'Type': 'CanonicalUser'}, 'Permission': 'FULL_CONTROL'}]\"},\n",
       "  {'owner': 'zhi.zhang',\n",
       "   'path': 'rootdir/internaldir/internalfile.txt',\n",
       "   'lastUpdated': '2023-08-24 08:12:44+00:00',\n",
       "   'fileName': 'internalfile.txt',\n",
       "   'userId': '2a5fac7aada1ad2caa48c9ab08cc4e2428d4eb596108daa3b59f1204ae96482e',\n",
       "   'permissions': \"[{'Grantee': {'DisplayName': 'zhi.zhang', 'ID': '2a5fac7aada1ad2caa48c9ab08cc4e2428d4eb596108daa3b59f1204ae96482e', 'Type': 'CanonicalUser'}, 'Permission': 'FULL_CONTROL'}]\"},\n",
       "  {'owner': 'zhi.zhang',\n",
       "   'path': 'rootdir/internaldir/internalfile copy 2.txt',\n",
       "   'lastUpdated': '2023-08-24 08:12:44+00:00',\n",
       "   'fileName': 'internalfile copy 2.txt',\n",
       "   'userId': '2a5fac7aada1ad2caa48c9ab08cc4e2428d4eb596108daa3b59f1204ae96482e',\n",
       "   'permissions': \"[{'Grantee': {'DisplayName': 'zhi.zhang', 'ID': '2a5fac7aada1ad2caa48c9ab08cc4e2428d4eb596108daa3b59f1204ae96482e', 'Type': 'CanonicalUser'}, 'Permission': 'FULL_CONTROL'}]\"},\n",
       "  {'owner': 'zhi.zhang',\n",
       "   'path': '__pycache__/config.cpython-310.pyc',\n",
       "   'lastUpdated': '2023-08-24 08:12:44+00:00',\n",
       "   'fileName': 'config.cpython-310.pyc',\n",
       "   'userId': '2a5fac7aada1ad2caa48c9ab08cc4e2428d4eb596108daa3b59f1204ae96482e',\n",
       "   'permissions': \"[{'Grantee': {'DisplayName': 'zhi.zhang', 'ID': '2a5fac7aada1ad2caa48c9ab08cc4e2428d4eb596108daa3b59f1204ae96482e', 'Type': 'CanonicalUser'}, 'Permission': 'FULL_CONTROL'}]\"},\n",
       "  {'owner': 'zhi.zhang',\n",
       "   'path': 'subdir/subfile copy.txt',\n",
       "   'lastUpdated': '2023-08-24 08:12:45+00:00',\n",
       "   'fileName': 'subfile copy.txt',\n",
       "   'userId': '2a5fac7aada1ad2caa48c9ab08cc4e2428d4eb596108daa3b59f1204ae96482e',\n",
       "   'permissions': \"[{'Grantee': {'DisplayName': 'zhi.zhang', 'ID': '2a5fac7aada1ad2caa48c9ab08cc4e2428d4eb596108daa3b59f1204ae96482e', 'Type': 'CanonicalUser'}, 'Permission': 'FULL_CONTROL'}]\"},\n",
       "  {'owner': 'zhi.zhang',\n",
       "   'path': 'rootdir/rootfile copy.txt',\n",
       "   'lastUpdated': '2023-08-24 08:12:44+00:00',\n",
       "   'fileName': 'rootfile copy.txt',\n",
       "   'userId': '2a5fac7aada1ad2caa48c9ab08cc4e2428d4eb596108daa3b59f1204ae96482e',\n",
       "   'permissions': \"[{'Grantee': {'DisplayName': 'zhi.zhang', 'ID': '2a5fac7aada1ad2caa48c9ab08cc4e2428d4eb596108daa3b59f1204ae96482e', 'Type': 'CanonicalUser'}, 'Permission': 'FULL_CONTROL'}]\"},\n",
       "  {'owner': 'zhi.zhang',\n",
       "   'path': 'subdir/subfile copy 2.txt',\n",
       "   'lastUpdated': '2023-08-24 08:12:45+00:00',\n",
       "   'fileName': 'subfile copy 2.txt',\n",
       "   'userId': '2a5fac7aada1ad2caa48c9ab08cc4e2428d4eb596108daa3b59f1204ae96482e',\n",
       "   'permissions': \"[{'Grantee': {'DisplayName': 'zhi.zhang', 'ID': '2a5fac7aada1ad2caa48c9ab08cc4e2428d4eb596108daa3b59f1204ae96482e', 'Type': 'CanonicalUser'}, 'Permission': 'FULL_CONTROL'}]\"},\n",
       "  {'owner': 'zhi.zhang',\n",
       "   'path': 'subdir/subfile copy 3.txt',\n",
       "   'lastUpdated': '2023-08-24 08:12:45+00:00',\n",
       "   'fileName': 'subfile copy 3.txt',\n",
       "   'userId': '2a5fac7aada1ad2caa48c9ab08cc4e2428d4eb596108daa3b59f1204ae96482e',\n",
       "   'permissions': \"[{'Grantee': {'DisplayName': 'zhi.zhang', 'ID': '2a5fac7aada1ad2caa48c9ab08cc4e2428d4eb596108daa3b59f1204ae96482e', 'Type': 'CanonicalUser'}, 'Permission': 'FULL_CONTROL'}]\"}],\n",
       " 'Count': 11,\n",
       " 'ScannedCount': 11,\n",
       " 'ResponseMetadata': {'RequestId': '2bc683dc-f109-4f26-a6ef-1a372b8fbcec',\n",
       "  'HTTPStatusCode': 200,\n",
       "  'HTTPHeaders': {'date': 'Sat, 26 Aug 2023 05:11:42 GMT',\n",
       "   'x-amzn-requestid': '2bc683dc-f109-4f26-a6ef-1a372b8fbcec',\n",
       "   'content-type': 'application/x-amz-json-1.0',\n",
       "   'x-amz-crc32': '3589918162',\n",
       "   'content-length': '4829',\n",
       "   'server': 'Jetty(11.0.11)'},\n",
       "  'RetryAttempts': 0}}"
      ]
     },
     "execution_count": 29,
     "metadata": {},
     "output_type": "execute_result"
    }
   ],
   "source": [
    "table.scan()"
   ]
  },
  {
   "cell_type": "code",
   "execution_count": 26,
   "metadata": {},
   "outputs": [
    {
     "data": {
      "text/plain": [
       "{'TableDescription': {'AttributeDefinitions': [{'AttributeName': 'userId',\n",
       "    'AttributeType': 'S'}],\n",
       "  'TableName': 'CloudFiles',\n",
       "  'KeySchema': [{'AttributeName': 'userId', 'KeyType': 'HASH'}],\n",
       "  'TableStatus': 'ACTIVE',\n",
       "  'CreationDateTime': datetime.datetime(2023, 8, 26, 12, 26, 26, 129000, tzinfo=tzlocal()),\n",
       "  'ProvisionedThroughput': {'LastIncreaseDateTime': datetime.datetime(1970, 1, 1, 8, 0, tzinfo=tzlocal()),\n",
       "   'LastDecreaseDateTime': datetime.datetime(1970, 1, 1, 8, 0, tzinfo=tzlocal()),\n",
       "   'NumberOfDecreasesToday': 0,\n",
       "   'ReadCapacityUnits': 5,\n",
       "   'WriteCapacityUnits': 5},\n",
       "  'TableSizeBytes': 344,\n",
       "  'ItemCount': 1,\n",
       "  'TableArn': 'arn:aws:dynamodb:ddblocal:000000000000:table/CloudFiles'},\n",
       " 'ResponseMetadata': {'RequestId': 'f1bd04e4-56ae-4946-a772-0d40a3ecf0ba',\n",
       "  'HTTPStatusCode': 200,\n",
       "  'HTTPHeaders': {'date': 'Sat, 26 Aug 2023 05:11:34 GMT',\n",
       "   'x-amzn-requestid': 'f1bd04e4-56ae-4946-a772-0d40a3ecf0ba',\n",
       "   'content-type': 'application/x-amz-json-1.0',\n",
       "   'x-amz-crc32': '2102841425',\n",
       "   'content-length': '494',\n",
       "   'server': 'Jetty(11.0.11)'},\n",
       "  'RetryAttempts': 0}}"
      ]
     },
     "execution_count": 26,
     "metadata": {},
     "output_type": "execute_result"
    }
   ],
   "source": [
    "table.delete()"
   ]
  }
 ],
 "metadata": {
  "kernelspec": {
   "display_name": "Python 3",
   "language": "python",
   "name": "python3"
  },
  "language_info": {
   "codemirror_mode": {
    "name": "ipython",
    "version": 3
   },
   "file_extension": ".py",
   "mimetype": "text/x-python",
   "name": "python",
   "nbconvert_exporter": "python",
   "pygments_lexer": "ipython3",
   "version": "3.10.12"
  },
  "orig_nbformat": 4
 },
 "nbformat": 4,
 "nbformat_minor": 2
}
